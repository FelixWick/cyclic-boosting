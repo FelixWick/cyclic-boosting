{
 "cells": [
  {
   "cell_type": "markdown",
   "metadata": {},
   "source": [
    "# Regression using Cyclic Boosting with High cardinality data"
   ]
  },
  {
   "cell_type": "markdown",
   "metadata": {},
   "source": [
    "Cyclic Boosting performs exceptionally well in cases with high cardinality, which refers to the presence of many unique values in a dataset, such as product IDs or user IDs. High cardinality can make regression tasks challenging because it complicates the modeling process, potentially leading to overfitting or inefficiencies in capturing patterns. However, unlike most other regression methods, Cyclic Boosting conducts local optimization for each individual feature bin (which means each individual category in the case of categorical features), making it a very low-bias approach.\n",
    "\n",
    "Examples of high cardinality:\n",
    "- Sales Forecasting: Forecasting sales using product IDs or customer IDs in retail and e-commerce.\n",
    "\n",
    "- Ad Delivery: Predicting advertising effectiveness and click-through rates based on user IDs and device IDs.\n",
    "\n",
    "- Financial Analysis: Analyzing credit scores and loan default risk using customer accounts and transaction IDs.\n",
    "\n",
    "- Medical Analysis: Predicting medical costs and treatment effects based on patient IDs.\n",
    "\n",
    "- Social Media Analysis: Predicting engagement using post and user IDs.\n",
    "\n",
    "- Traffic Prediction: Forecasting traffic volume and flight delays using vehicle IDs and operation records."
   ]
  },
  {
   "cell_type": "code",
   "execution_count": 1,
   "metadata": {},
   "outputs": [
    {
     "data": {
      "text/html": [
       "\n",
       "                <script type=\"application/javascript\" id=\"jupyter_black\">\n",
       "                (function() {\n",
       "                    if (window.IPython === undefined) {\n",
       "                        return\n",
       "                    }\n",
       "                    var msg = \"WARNING: it looks like you might have loaded \" +\n",
       "                        \"jupyter_black in a non-lab notebook with \" +\n",
       "                        \"`is_lab=True`. Please double check, and if \" +\n",
       "                        \"loading with `%load_ext` please review the README!\"\n",
       "                    console.log(msg)\n",
       "                    alert(msg)\n",
       "                })()\n",
       "                </script>\n",
       "                "
      ],
      "text/plain": [
       "<IPython.core.display.HTML object>"
      ]
     },
     "metadata": {},
     "output_type": "display_data"
    }
   ],
   "source": [
    "# Optional formatting if juypter-black is installed\n",
    "try:\n",
    "    import jupyter_black\n",
    "\n",
    "    jupyter_black.load(line_length=80)\n",
    "except ImportError:\n",
    "    ..."
   ]
  },
  {
   "cell_type": "code",
   "execution_count": 2,
   "metadata": {},
   "outputs": [],
   "source": [
    "import pandas as pd\n",
    "import numpy as np\n",
    "import matplotlib.pyplot as plt\n",
    "\n",
    "from sklearn.preprocessing import OrdinalEncoder\n",
    "from sklearn.model_selection import train_test_split\n",
    "from sklearn.metrics import mean_poisson_deviance\n",
    "\n",
    "from cyclic_boosting import flags, common_smoothers, observers\n",
    "from cyclic_boosting.plots import plot_analysis\n",
    "from cyclic_boosting.pipelines import pipeline_CBPoissonRegressor\n",
    "\n",
    "from cyclic_boosting.smoothing.onedim import SeasonalSmoother, IsotonicRegressor\n",
    "\n",
    "import lightgbm as lgb"
   ]
  },
  {
   "cell_type": "markdown",
   "metadata": {},
   "source": [
    "## Load high cardinality datasets"
   ]
  },
  {
   "cell_type": "markdown",
   "metadata": {},
   "source": [
    "We will conduct experiments using three simulated sales datasets with varying degrees of high cardinality for product IDs.  \n",
    "The 3 datasets have been simulated such that the proportion of unique product IDs relative to the total number of records is low: 25%, moderate: 40%, and extreme: 56%."
   ]
  },
  {
   "cell_type": "code",
   "execution_count": 3,
   "metadata": {},
   "outputs": [],
   "source": [
    "import urllib.request\n",
    "\n",
    "url_dict = {\n",
    "    \"low\": \"https://raw.githubusercontent.com/Blue-Yonder-OSS/cyclic-boosting/main/tests/high_cardinality_data/high_cardinality_data_low.csv\",\n",
    "    \"moderate\": \"https://raw.githubusercontent.com/Blue-Yonder-OSS/cyclic-boosting/main/tests/high_cardinality_data/high_cardinality_data_moderate.csv\",\n",
    "    \"extreme\": \"https://raw.githubusercontent.com/Blue-Yonder-OSS/cyclic-boosting/main/tests/high_cardinality_data/high_cardinality_data_extreme.csv\",\n",
    "}\n",
    "\n",
    "for level, url in url_dict.items():\n",
    "    urllib.request.urlretrieve(url, f\"high_cardinality_data_{level}.csv\")\n",
    "\n",
    "df_low = pd.read_csv(\"high_cardinality_data_low.csv\")\n",
    "df_mod = pd.read_csv(\"high_cardinality_data_moderate.csv\")\n",
    "df_ext = pd.read_csv(\"high_cardinality_data_extreme.csv\")"
   ]
  },
  {
   "cell_type": "markdown",
   "metadata": {},
   "source": [
    "## Visualize datasets"
   ]
  },
  {
   "cell_type": "markdown",
   "metadata": {},
   "source": [
    "To visualize cardinality, we will calculate the cardinality ratio for each dataset, which is the ratio of unique values in the column (in this case, the P_ID column) to the total number of data points. It is commonly accepted that if this ratio exceeds 20%, the column is considered to have high cardinality. Additionally, we will calculate the number of records contained for each product within the dataset."
   ]
  },
  {
   "cell_type": "code",
   "execution_count": 4,
   "metadata": {},
   "outputs": [
    {
     "data": {
      "text/html": [
       "<div>\n",
       "<style scoped>\n",
       "    .dataframe tbody tr th:only-of-type {\n",
       "        vertical-align: middle;\n",
       "    }\n",
       "\n",
       "    .dataframe tbody tr th {\n",
       "        vertical-align: top;\n",
       "    }\n",
       "\n",
       "    .dataframe thead th {\n",
       "        text-align: right;\n",
       "    }\n",
       "</style>\n",
       "<table border=\"1\" class=\"dataframe\">\n",
       "  <thead>\n",
       "    <tr style=\"text-align: right;\">\n",
       "      <th></th>\n",
       "      <th>n_unique_products</th>\n",
       "      <th>n_records</th>\n",
       "      <th>cardinality_ratio</th>\n",
       "      <th>n_records_per_product_mean</th>\n",
       "      <th>n_records_per_product_var</th>\n",
       "    </tr>\n",
       "  </thead>\n",
       "  <tbody>\n",
       "    <tr>\n",
       "      <th>low</th>\n",
       "      <td>2888</td>\n",
       "      <td>11635</td>\n",
       "      <td>0.248217</td>\n",
       "      <td>4.02874</td>\n",
       "      <td>11.995364</td>\n",
       "    </tr>\n",
       "    <tr>\n",
       "      <th>moderate</th>\n",
       "      <td>4841</td>\n",
       "      <td>12207</td>\n",
       "      <td>0.396576</td>\n",
       "      <td>2.521586</td>\n",
       "      <td>3.302065</td>\n",
       "    </tr>\n",
       "    <tr>\n",
       "      <th>extreme</th>\n",
       "      <td>6056</td>\n",
       "      <td>10749</td>\n",
       "      <td>0.563401</td>\n",
       "      <td>1.774934</td>\n",
       "      <td>1.142235</td>\n",
       "    </tr>\n",
       "  </tbody>\n",
       "</table>\n",
       "</div>"
      ],
      "text/plain": [
       "         n_unique_products n_records cardinality_ratio  \\\n",
       "low                   2888     11635          0.248217   \n",
       "moderate              4841     12207          0.396576   \n",
       "extreme               6056     10749          0.563401   \n",
       "\n",
       "         n_records_per_product_mean n_records_per_product_var  \n",
       "low                         4.02874                 11.995364  \n",
       "moderate                   2.521586                  3.302065  \n",
       "extreme                    1.774934                  1.142235  "
      ]
     },
     "metadata": {},
     "output_type": "display_data"
    }
   ],
   "source": [
    "df_datasets = pd.DataFrame(\n",
    "    index=[\"low\", \"moderate\", \"extreme\"],\n",
    "    columns=[\n",
    "        \"n_unique_products\",\n",
    "        \"n_records\",\n",
    "        \"cardinality_ratio\",\n",
    "        \"n_records_per_product_mean\",\n",
    "        \"n_records_per_product_var\",\n",
    "    ],\n",
    ")\n",
    "for level, df in {\"low\": df_low, \"moderate\": df_mod, \"extreme\": df_ext}.items():\n",
    "    cardinality_ratio = df[\"P_ID\"].nunique() / len(df)\n",
    "    n_records_per_product_mean = df[\"P_ID\"].value_counts().mean()\n",
    "    n_records_per_product_var = df[\"P_ID\"].value_counts().var()\n",
    "    df_datasets.loc[level] = [\n",
    "        df[\"P_ID\"].nunique(),\n",
    "        len(df),\n",
    "        cardinality_ratio,\n",
    "        n_records_per_product_mean,\n",
    "        n_records_per_product_var,\n",
    "    ]\n",
    "\n",
    "display(df_datasets)"
   ]
  },
  {
   "cell_type": "markdown",
   "metadata": {},
   "source": [
    " \n",
    "Here, we will display the distribution of \"SALES\" for each dataset and the distribution of the number of records for each product.\n",
    "\n",
    "The left histogram depicts the frequency distribution of sales values. The x-axis represents different sales values. The y-axis indicates how frequently each sales value occurs, with a logarithmic scale. The histogram shows that the majority of sales values are low, with a steep decrease in frequency as sales values increase. This type of distribution is common in sales data, where a few high sales values are less frequent compared to many low sales values.\n",
    "\n",
    "The right histogram displays the distribution of the number of records per product ID (P_ID). The x-axis shows the number of records, and the y-axis indicates the number of products having that specific number of records, also with a logarithmic scale. The histogram suggests that most product IDs have a lower number of records, and as the number of records increases, the frequency of such products decreases."
   ]
  },
  {
   "cell_type": "code",
   "execution_count": 5,
   "metadata": {},
   "outputs": [
    {
     "data": {
      "image/png": "[encoded data removed]",
      "text/plain": [
       "<Figure size 1200x300 with 2 Axes>"
      ]
     },
     "metadata": {},
     "output_type": "display_data"
    },
    {
     "data": {
      "image/png": "[encoded data removed]",
      "text/plain": [
       "<Figure size 1200x300 with 2 Axes>"
      ]
     },
     "metadata": {},
     "output_type": "display_data"
    },
    {
     "data": {
      "image/png": "[encoded data removed]",
      "text/plain": [
       "<Figure size 1200x300 with 2 Axes>"
      ]
     },
     "metadata": {},
     "output_type": "display_data"
    }
   ],
   "source": [
    "for level, df in {\"low\": df_low, \"moderate\": df_mod, \"extreme\": df_ext}.items():\n",
    "    fig, [ax1, ax2] = plt.subplots(1, 2, figsize=(12, 3))\n",
    "    fig.suptitle(f\"{level} high cardinality data\")\n",
    "    ax1.hist(df[\"SALES\"], log=True, bins=30, range=(0, 30))\n",
    "    ax1.set_title(\"SALES\")\n",
    "    ax1.set_xlabel(\"SALES\")\n",
    "    ax1.set_ylabel(\"Frequency\")\n",
    "    ax2.hist(df[\"P_ID\"].value_counts(), log=True, bins=25, range=(0, 25))\n",
    "    ax2.set_title(\"n_record per P_ID\")\n",
    "    ax2.set_xlabel(\"n_record\")\n",
    "    ax2.set_ylabel(\"n_product\")\n",
    "    plt.show()\n",
    "    plt.close()"
   ]
  },
  {
   "cell_type": "markdown",
   "metadata": {},
   "source": [
    "## Prepare data"
   ]
  },
  {
   "cell_type": "code",
   "execution_count": 6,
   "metadata": {},
   "outputs": [],
   "source": [
    "def prepare_data(df):\n",
    "    df[\"DATE\"] = pd.to_datetime(df[\"DATE\"])\n",
    "    df[\"dayofweek\"] = df[\"DATE\"].dt.dayofweek\n",
    "    df[\"dayofyear\"] = df[\"DATE\"].dt.dayofyear\n",
    "\n",
    "    df = df.drop(columns=[\"LAMBDA\"])\n",
    "\n",
    "    df[\"price_ratio\"] = df[\"SALES_PRICE\"] / df[\"NORMAL_PRICE\"]\n",
    "    df[\"price_ratio\"].fillna(1, inplace=True)\n",
    "    df[\"price_ratio\"].clip(0, 1, inplace=True)\n",
    "    df.loc[df[\"price_ratio\"] == 1.0, \"price_ratio\"] = np.nan\n",
    "\n",
    "    enc = OrdinalEncoder(\n",
    "        handle_unknown=\"use_encoded_value\", unknown_value=np.nan\n",
    "    )\n",
    "    df[[\"P_ID\", \"PG_ID_1\", \"PG_ID_2\", \"PG_ID_3\", \"EVENT\"]] = enc.fit_transform(\n",
    "        df[[\"P_ID\", \"PG_ID_1\", \"PG_ID_2\", \"PG_ID_3\", \"EVENT\"]]\n",
    "    )\n",
    "\n",
    "    y = np.asarray(df[\"SALES\"])\n",
    "    X = df.drop(columns=\"SALES\")\n",
    "\n",
    "    train_size = 0.8\n",
    "    split_date = (X[\"DATE\"].max() - X[\"DATE\"].min()) * train_size + X[\n",
    "        \"DATE\"\n",
    "    ].min()\n",
    "    X_train = X.loc[X[\"DATE\"] <= split_date]\n",
    "    X_test = X.loc[X[\"DATE\"] > split_date]\n",
    "    X_train = X_train.drop(columns=\"DATE\")\n",
    "    X_test = X_test.drop(columns=\"DATE\")\n",
    "    y_train = y[X_train.index]\n",
    "    y_test = y[X_test.index]\n",
    "    return X_train, X_test, y_train, y_test"
   ]
  },
  {
   "cell_type": "markdown",
   "metadata": {},
   "source": [
    "## Set the feature properties"
   ]
  },
  {
   "cell_type": "code",
   "execution_count": 7,
   "metadata": {},
   "outputs": [],
   "source": [
    "feature_properties = {\n",
    "    \"P_ID\": flags.IS_UNORDERED,\n",
    "    \"PG_ID_1\": flags.IS_UNORDERED,\n",
    "    \"PG_ID_2\": flags.IS_UNORDERED,\n",
    "    \"PG_ID_3\": flags.IS_UNORDERED,\n",
    "    \"dayofweek\": flags.IS_ORDERED,\n",
    "    \"dayofyear\": flags.IS_CONTINUOUS | flags.IS_LINEAR,\n",
    "    \"SALES_PRICE\": flags.IS_CONTINUOUS,\n",
    "    \"NORMAL_PRICE\": flags.IS_CONTINUOUS,\n",
    "    \"price_ratio\": flags.IS_CONTINUOUS\n",
    "    | flags.HAS_MISSING\n",
    "    | flags.MISSING_NOT_LEARNED,\n",
    "    \"PROMOTION_TYPE\": flags.IS_ORDERED,\n",
    "    \"SCHOOL_HOLIDAY\": flags.IS_UNORDERED,\n",
    "    \"EVENT\": flags.IS_UNORDERED | flags.HAS_MISSING,\n",
    "}\n",
    "\n",
    "features = [\n",
    "    \"P_ID\",\n",
    "    \"PG_ID_1\",\n",
    "    \"PG_ID_2\",\n",
    "    \"PG_ID_3\",\n",
    "    \"dayofweek\",\n",
    "    \"dayofyear\",\n",
    "    \"SALES_PRICE\",\n",
    "    \"NORMAL_PRICE\",\n",
    "    \"price_ratio\",\n",
    "    \"PROMOTION_TYPE\",\n",
    "    \"SCHOOL_HOLIDAY\",\n",
    "    \"EVENT\",\n",
    "    # interaction terms\n",
    "    (\"PG_ID_1\", \"PROMOTION_TYPE\"),\n",
    "    (\"PG_ID_2\", \"PROMOTION_TYPE\"),\n",
    "    (\"PG_ID_3\", \"PROMOTION_TYPE\"),\n",
    "    (\"PG_ID_1\", \"dayofweek\"),\n",
    "    (\"PG_ID_2\", \"dayofweek\"),\n",
    "    (\"PG_ID_3\", \"dayofweek\"),\n",
    "    (\"PG_ID_1\", \"SALES_PRICE\"),\n",
    "    (\"PG_ID_2\", \"SALES_PRICE\"),\n",
    "    (\"PG_ID_3\", \"SALES_PRICE\"),\n",
    "    (\"PG_ID_1\", \"PG_ID_2\"),\n",
    "    (\"PG_ID_1\", \"PG_ID_3\"),\n",
    "    (\"PG_ID_2\", \"PG_ID_3\"),\n",
    "    (\"price_ratio\", \"PROMOTION_TYPE\"),\n",
    "    (\"dayofweek\", \"PROMOTION_TYPE\"),\n",
    "    (\"EVENT\", \"PROMOTION_TYPE\"),\n",
    "]"
   ]
  },
  {
   "cell_type": "markdown",
   "metadata": {},
   "source": [
    "## Build the model"
   ]
  },
  {
   "cell_type": "code",
   "execution_count": 8,
   "metadata": {},
   "outputs": [
    {
     "data": {
      "text/html": [
       "<style>#sk-container-id-1 {color: black;}#sk-container-id-1 pre{padding: 0;}#sk-container-id-1 div.sk-toggleable {background-color: white;}#sk-container-id-1 label.sk-toggleable__label {cursor: pointer;display: block;width: 100%;margin-bottom: 0;padding: 0.3em;box-sizing: border-box;text-align: center;}#sk-container-id-1 label.sk-toggleable__label-arrow:before {content: \"▸\";float: left;margin-right: 0.25em;color: #696969;}#sk-container-id-1 label.sk-toggleable__label-arrow:hover:before {color: black;}#sk-container-id-1 div.sk-estimator:hover label.sk-toggleable__label-arrow:before {color: black;}#sk-container-id-1 div.sk-toggleable__content {max-height: 0;max-width: 0;overflow: hidden;text-align: left;background-color: #f0f8ff;}#sk-container-id-1 div.sk-toggleable__content pre {margin: 0.2em;color: black;border-radius: 0.25em;background-color: #f0f8ff;}#sk-container-id-1 input.sk-toggleable__control:checked~div.sk-toggleable__content {max-height: 200px;max-width: 100%;overflow: auto;}#sk-container-id-1 input.sk-toggleable__control:checked~label.sk-toggleable__label-arrow:before {content: \"▾\";}#sk-container-id-1 div.sk-estimator input.sk-toggleable__control:checked~label.sk-toggleable__label {background-color: #d4ebff;}#sk-container-id-1 div.sk-label input.sk-toggleable__control:checked~label.sk-toggleable__label {background-color: #d4ebff;}#sk-container-id-1 input.sk-hidden--visually {border: 0;clip: rect(1px 1px 1px 1px);clip: rect(1px, 1px, 1px, 1px);height: 1px;margin: -1px;overflow: hidden;padding: 0;position: absolute;width: 1px;}#sk-container-id-1 div.sk-estimator {font-family: monospace;background-color: #f0f8ff;border: 1px dotted black;border-radius: 0.25em;box-sizing: border-box;margin-bottom: 0.5em;}#sk-container-id-1 div.sk-estimator:hover {background-color: #d4ebff;}#sk-container-id-1 div.sk-parallel-item::after {content: \"\";width: 100%;border-bottom: 1px solid gray;flex-grow: 1;}#sk-container-id-1 div.sk-label:hover label.sk-toggleable__label {background-color: #d4ebff;}#sk-container-id-1 div.sk-serial::before {content: \"\";position: absolute;border-left: 1px solid gray;box-sizing: border-box;top: 0;bottom: 0;left: 50%;z-index: 0;}#sk-container-id-1 div.sk-serial {display: flex;flex-direction: column;align-items: center;background-color: white;padding-right: 0.2em;padding-left: 0.2em;position: relative;}#sk-container-id-1 div.sk-item {position: relative;z-index: 1;}#sk-container-id-1 div.sk-parallel {display: flex;align-items: stretch;justify-content: center;background-color: white;position: relative;}#sk-container-id-1 div.sk-item::before, #sk-container-id-1 div.sk-parallel-item::before {content: \"\";position: absolute;border-left: 1px solid gray;box-sizing: border-box;top: 0;bottom: 0;left: 50%;z-index: -1;}#sk-container-id-1 div.sk-parallel-item {display: flex;flex-direction: column;z-index: 1;position: relative;background-color: white;}#sk-container-id-1 div.sk-parallel-item:first-child::after {align-self: flex-end;width: 50%;}#sk-container-id-1 div.sk-parallel-item:last-child::after {align-self: flex-start;width: 50%;}#sk-container-id-1 div.sk-parallel-item:only-child::after {width: 0;}#sk-container-id-1 div.sk-dashed-wrapped {border: 1px dashed gray;margin: 0 0.4em 0.5em 0.4em;box-sizing: border-box;padding-bottom: 0.4em;background-color: white;}#sk-container-id-1 div.sk-label label {font-family: monospace;font-weight: bold;display: inline-block;line-height: 1.2em;}#sk-container-id-1 div.sk-label-container {text-align: center;}#sk-container-id-1 div.sk-container {/* jupyter's `normalize.less` sets `[hidden] { display: none; }` but bootstrap.min.css set `[hidden] { display: none !important; }` so we also need the `!important` here to be able to override the default hidden behavior on the sphinx rendered scikit-learn.org. See: https://github.com/scikit-learn/scikit-learn/issues/21755 */display: inline-block !important;position: relative;}#sk-container-id-1 div.sk-text-repr-fallback {display: none;}</style><div id=\"sk-container-id-1\" class=\"sk-top-container\"><div class=\"sk-text-repr-fallback\"><pre>Pipeline(steps=[(&#x27;binning&#x27;,\n",
       "                 BinNumberTransformer(feature_properties={&#x27;EVENT&#x27;: 20,\n",
       "                                                          &#x27;NORMAL_PRICE&#x27;: 1,\n",
       "                                                          &#x27;PG_ID_1&#x27;: 4,\n",
       "                                                          &#x27;PG_ID_2&#x27;: 4,\n",
       "                                                          &#x27;PG_ID_3&#x27;: 4,\n",
       "                                                          &#x27;PROMOTION_TYPE&#x27;: 2,\n",
       "                                                          &#x27;P_ID&#x27;: 4,\n",
       "                                                          &#x27;SALES_PRICE&#x27;: 1,\n",
       "                                                          &#x27;SCHOOL_HOLIDAY&#x27;: 4,\n",
       "                                                          &#x27;dayofweek&#x27;: 2,\n",
       "                                                          &#x27;dayofyear&#x27;: 257,\n",
       "                                                          &#x27;price_ratio&#x27;: 49})),\n",
       "                (&#x27;CB&#x27;,\n",
       "                 CBPoissonRegressor(feature_groups=[&#x27;P_ID&#x27;, &#x27;PG_ID_1&#x27;,\n",
       "                                                    &#x27;PG_ID_2&#x27;, &#x27;PG_ID_3&#x27;,\n",
       "                                                    &#x27;dayofweek&#x27;, &#x27;dayofyear&#x27;,\n",
       "                                                    &#x27;SA...\n",
       "                                    learn_rate=&lt;function half_linear_learn_rate at 0x7f6be89be680&gt;,\n",
       "                                    maximal_iterations=50,\n",
       "                                    minimal_factor_change=0.001,\n",
       "                                    minimal_loss_change=0.001,\n",
       "                                    observers=[&lt;cyclic_boosting.observers.PlottingObserver object at 0x7f6be73f84c0&gt;,\n",
       "                                               &lt;cyclic_boosting.observers.PlottingObserver object at 0x7f6be73f8d30&gt;],\n",
       "                                    smoother_choice=&lt;cyclic_boosting.common_smoothers.SmootherChoiceGroupBy object at 0x7f6be73fa110&gt;))])</pre><b>In a Jupyter environment, please rerun this cell to show the HTML representation or trust the notebook. <br />On GitHub, the HTML representation is unable to render, please try loading this page with nbviewer.org.</b></div><div class=\"sk-container\" hidden><div class=\"sk-item sk-dashed-wrapped\"><div class=\"sk-label-container\"><div class=\"sk-label sk-toggleable\"><input class=\"sk-toggleable__control sk-hidden--visually\" id=\"sk-estimator-id-1\" type=\"checkbox\" ><label for=\"sk-estimator-id-1\" class=\"sk-toggleable__label sk-toggleable__label-arrow\">Pipeline</label><div class=\"sk-toggleable__content\"><pre>Pipeline(steps=[(&#x27;binning&#x27;,\n",
       "                 BinNumberTransformer(feature_properties={&#x27;EVENT&#x27;: 20,\n",
       "                                                          &#x27;NORMAL_PRICE&#x27;: 1,\n",
       "                                                          &#x27;PG_ID_1&#x27;: 4,\n",
       "                                                          &#x27;PG_ID_2&#x27;: 4,\n",
       "                                                          &#x27;PG_ID_3&#x27;: 4,\n",
       "                                                          &#x27;PROMOTION_TYPE&#x27;: 2,\n",
       "                                                          &#x27;P_ID&#x27;: 4,\n",
       "                                                          &#x27;SALES_PRICE&#x27;: 1,\n",
       "                                                          &#x27;SCHOOL_HOLIDAY&#x27;: 4,\n",
       "                                                          &#x27;dayofweek&#x27;: 2,\n",
       "                                                          &#x27;dayofyear&#x27;: 257,\n",
       "                                                          &#x27;price_ratio&#x27;: 49})),\n",
       "                (&#x27;CB&#x27;,\n",
       "                 CBPoissonRegressor(feature_groups=[&#x27;P_ID&#x27;, &#x27;PG_ID_1&#x27;,\n",
       "                                                    &#x27;PG_ID_2&#x27;, &#x27;PG_ID_3&#x27;,\n",
       "                                                    &#x27;dayofweek&#x27;, &#x27;dayofyear&#x27;,\n",
       "                                                    &#x27;SA...\n",
       "                                    learn_rate=&lt;function half_linear_learn_rate at 0x7f6be89be680&gt;,\n",
       "                                    maximal_iterations=50,\n",
       "                                    minimal_factor_change=0.001,\n",
       "                                    minimal_loss_change=0.001,\n",
       "                                    observers=[&lt;cyclic_boosting.observers.PlottingObserver object at 0x7f6be73f84c0&gt;,\n",
       "                                               &lt;cyclic_boosting.observers.PlottingObserver object at 0x7f6be73f8d30&gt;],\n",
       "                                    smoother_choice=&lt;cyclic_boosting.common_smoothers.SmootherChoiceGroupBy object at 0x7f6be73fa110&gt;))])</pre></div></div></div><div class=\"sk-serial\"><div class=\"sk-item\"><div class=\"sk-estimator sk-toggleable\"><input class=\"sk-toggleable__control sk-hidden--visually\" id=\"sk-estimator-id-2\" type=\"checkbox\" ><label for=\"sk-estimator-id-2\" class=\"sk-toggleable__label sk-toggleable__label-arrow\">BinNumberTransformer</label><div class=\"sk-toggleable__content\"><pre>BinNumberTransformer(feature_properties={&#x27;EVENT&#x27;: 20, &#x27;NORMAL_PRICE&#x27;: 1,\n",
       "                                         &#x27;PG_ID_1&#x27;: 4, &#x27;PG_ID_2&#x27;: 4,\n",
       "                                         &#x27;PG_ID_3&#x27;: 4, &#x27;PROMOTION_TYPE&#x27;: 2,\n",
       "                                         &#x27;P_ID&#x27;: 4, &#x27;SALES_PRICE&#x27;: 1,\n",
       "                                         &#x27;SCHOOL_HOLIDAY&#x27;: 4, &#x27;dayofweek&#x27;: 2,\n",
       "                                         &#x27;dayofyear&#x27;: 257, &#x27;price_ratio&#x27;: 49})</pre></div></div></div><div class=\"sk-item\"><div class=\"sk-estimator sk-toggleable\"><input class=\"sk-toggleable__control sk-hidden--visually\" id=\"sk-estimator-id-3\" type=\"checkbox\" ><label for=\"sk-estimator-id-3\" class=\"sk-toggleable__label sk-toggleable__label-arrow\">CBPoissonRegressor</label><div class=\"sk-toggleable__content\"><pre>CBPoissonRegressor(feature_groups=[&#x27;P_ID&#x27;, &#x27;PG_ID_1&#x27;, &#x27;PG_ID_2&#x27;, &#x27;PG_ID_3&#x27;,\n",
       "                                   &#x27;dayofweek&#x27;, &#x27;dayofyear&#x27;, &#x27;SALES_PRICE&#x27;,\n",
       "                                   &#x27;NORMAL_PRICE&#x27;, &#x27;price_ratio&#x27;,\n",
       "                                   &#x27;PROMOTION_TYPE&#x27;, &#x27;SCHOOL_HOLIDAY&#x27;, &#x27;EVENT&#x27;,\n",
       "                                   (&#x27;PG_ID_1&#x27;, &#x27;PROMOTION_TYPE&#x27;),\n",
       "                                   (&#x27;PG_ID_2&#x27;, &#x27;PROMOTION_TYPE&#x27;),\n",
       "                                   (&#x27;PG_ID_3&#x27;, &#x27;PROMOTION_TYPE&#x27;),\n",
       "                                   (&#x27;PG_ID_1&#x27;, &#x27;dayofweek&#x27;),\n",
       "                                   (&#x27;PG_ID_2&#x27;, &#x27;dayofweek&#x27;),\n",
       "                                   (&#x27;PG_ID_3&#x27;, &#x27;dayofweek&#x27;),\n",
       "                                   (&#x27;PG_ID_1&#x27;...\n",
       "                   learn_rate=&lt;function half_linear_learn_rate at 0x7f6be89be680&gt;,\n",
       "                   maximal_iterations=50, minimal_factor_change=0.001,\n",
       "                   minimal_loss_change=0.001,\n",
       "                   observers=[&lt;cyclic_boosting.observers.PlottingObserver object at 0x7f6be73f84c0&gt;,\n",
       "                              &lt;cyclic_boosting.observers.PlottingObserver object at 0x7f6be73f8d30&gt;],\n",
       "                   smoother_choice=&lt;cyclic_boosting.common_smoothers.SmootherChoiceGroupBy object at 0x7f6be73fa110&gt;)</pre></div></div></div></div></div></div></div>"
      ],
      "text/plain": [
       "Pipeline(steps=[('binning',\n",
       "                 BinNumberTransformer(feature_properties={'EVENT': 20,\n",
       "                                                          'NORMAL_PRICE': 1,\n",
       "                                                          'PG_ID_1': 4,\n",
       "                                                          'PG_ID_2': 4,\n",
       "                                                          'PG_ID_3': 4,\n",
       "                                                          'PROMOTION_TYPE': 2,\n",
       "                                                          'P_ID': 4,\n",
       "                                                          'SALES_PRICE': 1,\n",
       "                                                          'SCHOOL_HOLIDAY': 4,\n",
       "                                                          'dayofweek': 2,\n",
       "                                                          'dayofyear': 257,\n",
       "                                                          'price_ratio': 49})),\n",
       "                ('CB',\n",
       "                 CBPoissonRegressor(feature_groups=['P_ID', 'PG_ID_1',\n",
       "                                                    'PG_ID_2', 'PG_ID_3',\n",
       "                                                    'dayofweek', 'dayofyear',\n",
       "                                                    'SA...\n",
       "                                    learn_rate=<function half_linear_learn_rate at 0x7f6be89be680>,\n",
       "                                    maximal_iterations=50,\n",
       "                                    minimal_factor_change=0.001,\n",
       "                                    minimal_loss_change=0.001,\n",
       "                                    observers=[<cyclic_boosting.observers.PlottingObserver object at 0x7f6be73f84c0>,\n",
       "                                               <cyclic_boosting.observers.PlottingObserver object at 0x7f6be73f8d30>],\n",
       "                                    smoother_choice=<cyclic_boosting.common_smoothers.SmootherChoiceGroupBy object at 0x7f6be73fa110>))])"
      ]
     },
     "execution_count": 8,
     "metadata": {},
     "output_type": "execute_result"
    }
   ],
   "source": [
    "def cb_poisson_regressor_model():\n",
    "    explicit_smoothers = {\n",
    "        (\"dayofyear\",): SeasonalSmoother(order=3),\n",
    "        (\"price_ratio\",): IsotonicRegressor(increasing=False),\n",
    "    }\n",
    "\n",
    "    plobs = [\n",
    "        observers.PlottingObserver(iteration=1),\n",
    "        observers.PlottingObserver(iteration=-1),\n",
    "    ]\n",
    "\n",
    "    CB_pipeline = pipeline_CBPoissonRegressor(\n",
    "        feature_properties=feature_properties,\n",
    "        feature_groups=features,\n",
    "        observers=plobs,\n",
    "        maximal_iterations=50,\n",
    "        smoother_choice=common_smoothers.SmootherChoiceGroupBy(\n",
    "            use_regression_type=True,\n",
    "            use_normalization=False,\n",
    "            explicit_smoothers=explicit_smoothers,\n",
    "        ),\n",
    "    )\n",
    "\n",
    "    return CB_pipeline\n",
    "\n",
    "\n",
    "cb_poisson_regressor_model()"
   ]
  },
  {
   "cell_type": "markdown",
   "metadata": {},
   "source": [
    "## Training and prediction\n",
    "\n",
    "For comparison, we will perform regression using Cyclic Boosting and Light GBM. (You need to install the lightgbm package before running.)"
   ]
  },
  {
   "cell_type": "code",
   "execution_count": 9,
   "metadata": {},
   "outputs": [],
   "source": [
    "def fit_and_predict_CB(df):\n",
    "    X_train, X_test, y_train, y_test = prepare_data(df)\n",
    "    CB_est = cb_poisson_regressor_model()\n",
    "    _ = CB_est.fit(X_train.copy(), y_train)\n",
    "    yhat = CB_est.predict(X_test.copy())\n",
    "    mae = np.nanmean(np.abs(y_test - yhat))\n",
    "    return mae\n",
    "\n",
    "\n",
    "def fit_and_predict_LGBM(df):\n",
    "    X_train, X_test, y_train, y_test = prepare_data(df)\n",
    "    params = {\"objective\": \"poisson\", \"verbosity\": -1}\n",
    "    lgb_train = lgb.Dataset(X_train, y_train)\n",
    "    model = lgb.train(params=params, train_set=lgb_train)\n",
    "    yhat = model.predict(X_test)\n",
    "    mae = np.nanmean(np.abs(y_test - yhat))\n",
    "    return mae"
   ]
  },
  {
   "cell_type": "markdown",
   "metadata": {},
   "source": [
    "## Compare the accuracy of Cyclic Boosting and Light GBM"
   ]
  },
  {
   "cell_type": "code",
   "execution_count": 10,
   "metadata": {},
   "outputs": [
    {
     "name": "stdout",
     "output_type": "stream",
     "text": [
      "-- Processing low high cardinality data\n",
      "-- Processing moderate high cardinality data\n",
      "-- Processing extreme high cardinality data\n"
     ]
    },
    {
     "data": {
      "text/html": [
       "<div>\n",
       "<style scoped>\n",
       "    .dataframe tbody tr th:only-of-type {\n",
       "        vertical-align: middle;\n",
       "    }\n",
       "\n",
       "    .dataframe tbody tr th {\n",
       "        vertical-align: top;\n",
       "    }\n",
       "\n",
       "    .dataframe thead th {\n",
       "        text-align: right;\n",
       "    }\n",
       "</style>\n",
       "<table border=\"1\" class=\"dataframe\">\n",
       "  <thead>\n",
       "    <tr style=\"text-align: right;\">\n",
       "      <th></th>\n",
       "      <th>low</th>\n",
       "      <th>moderate</th>\n",
       "      <th>extreme</th>\n",
       "    </tr>\n",
       "  </thead>\n",
       "  <tbody>\n",
       "    <tr>\n",
       "      <th>CB</th>\n",
       "      <td>0.482740</td>\n",
       "      <td>0.436544</td>\n",
       "      <td>0.572737</td>\n",
       "    </tr>\n",
       "    <tr>\n",
       "      <th>LGBM</th>\n",
       "      <td>0.489905</td>\n",
       "      <td>0.443989</td>\n",
       "      <td>0.581132</td>\n",
       "    </tr>\n",
       "    <tr>\n",
       "      <th>defference</th>\n",
       "      <td>0.007165</td>\n",
       "      <td>0.007444</td>\n",
       "      <td>0.008395</td>\n",
       "    </tr>\n",
       "  </tbody>\n",
       "</table>\n",
       "</div>"
      ],
      "text/plain": [
       "                 low  moderate   extreme\n",
       "CB          0.482740  0.436544  0.572737\n",
       "LGBM        0.489905  0.443989  0.581132\n",
       "defference  0.007165  0.007444  0.008395"
      ]
     },
     "metadata": {},
     "output_type": "display_data"
    }
   ],
   "source": [
    "df_mae = pd.DataFrame(\n",
    "    index=[\"CB\", \"LGBM\", \"defference\"], columns=[\"low\", \"moderate\", \"extreme\"]\n",
    ")\n",
    "\n",
    "for level, df in {\"low\": df_low, \"moderate\": df_mod, \"extreme\": df_ext}.items():\n",
    "    print(f\"-- Processing {level} high cardinality data\")\n",
    "    mae_CB = fit_and_predict_CB(df)\n",
    "    mae_LGBM = fit_and_predict_LGBM(df)\n",
    "    df_mae[level] = [mae_CB, mae_LGBM, mae_LGBM - mae_CB]\n",
    "\n",
    "display(df_mae)"
   ]
  }
 ],
 "metadata": {
  "kernelspec": {
   "display_name": ".venv",
   "language": "python",
   "name": "python3"
  },
  "language_info": {
   "codemirror_mode": {
    "name": "ipython",
    "version": 3
   },
   "file_extension": ".py",
   "mimetype": "text/x-python",
   "name": "python",
   "nbconvert_exporter": "python",
   "pygments_lexer": "ipython3",
   "version": "3.10.11"
  }
 },
 "nbformat": 4,
 "nbformat_minor": 2
}
